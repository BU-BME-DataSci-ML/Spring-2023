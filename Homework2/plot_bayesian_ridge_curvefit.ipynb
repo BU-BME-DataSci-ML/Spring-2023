{
  "cells": [
    {
      "cell_type": "markdown",
      "metadata": {
        "id": "view-in-github",
        "colab_type": "text"
      },
      "source": [
        "<a href=\"https://colab.research.google.com/github/BU-BME-DataSci-ML/Spring-2023/blob/main/Homework2/plot_bayesian_ridge_curvefit.ipynb\" target=\"_parent\"><img src=\"https://colab.research.google.com/assets/colab-badge.svg\" alt=\"Open In Colab\"/></a>"
      ]
    },
    {
      "cell_type": "code",
      "execution_count": null,
      "metadata": {
        "id": "qmwwMU8uEE_W"
      },
      "outputs": [],
      "source": [
        "%matplotlib inline"
      ]
    },
    {
      "cell_type": "markdown",
      "metadata": {
        "id": "xq1fG1WXEE_Z"
      },
      "source": [
        "\n",
        "# Curve Fitting with Bayesian Ridge Regression\n",
        "\n",
        "Computes a Bayesian Ridge Regression of Sinusoids.\n",
        "\n",
        "See `bayesian_ridge_regression` for more information on the regressor.\n",
        "\n",
        "In general, when fitting a curve with a polynomial by Bayesian ridge\n",
        "regression, the selection of initial values of\n",
        "the regularization parameters (alpha, lambda) may be important.\n",
        "This is because the regularization parameters are determined by an iterative\n",
        "procedure that depends on initial values.\n",
        "\n",
        "In this example, the sinusoid is approximated by a polynomial using different\n",
        "pairs of initial values.\n",
        "\n",
        "When starting from the default values (alpha_init = 1.90, lambda_init = 1.),\n",
        "the bias of the resulting curve is large, and the variance is small.\n",
        "So, lambda_init should be relatively small (1.e-3) so as to reduce the bias.\n",
        "\n",
        "Also, by evaluating log marginal likelihood (L) of\n",
        "these models, we can determine which one is better.\n",
        "It can be concluded that the model with larger L is more likely.\n"
      ]
    },
    {
      "cell_type": "code",
      "execution_count": null,
      "metadata": {
        "id": "dJX7Dm9SEE_b"
      },
      "outputs": [],
      "source": [
        "# Author: Yoshihiro Uchida <nimbus1after2a1sun7shower@gmail.com>"
      ]
    },
    {
      "cell_type": "markdown",
      "metadata": {
        "id": "3Y2EKQAHEE_c"
      },
      "source": [
        "## Generate sinusoidal data with noise\n",
        "\n"
      ]
    },
    {
      "cell_type": "code",
      "execution_count": null,
      "metadata": {
        "id": "wcow0KRuEE_c"
      },
      "outputs": [],
      "source": [
        "import numpy as np\n",
        "\n",
        "\n",
        "def func(x):\n",
        "    return np.sin(2 * np.pi * x)\n",
        "\n",
        "\n",
        "size = 25\n",
        "rng = np.random.RandomState(1234)\n",
        "x_train = rng.uniform(0.0, 1.0, size)\n",
        "y_train = func(x_train) + rng.normal(scale=0.1, size=size)\n",
        "x_test = np.linspace(0.0, 1.0, 100)"
      ]
    },
    {
      "cell_type": "markdown",
      "metadata": {
        "id": "N2--2DOGEE_c"
      },
      "source": [
        "## Fit by cubic polynomial\n",
        "\n"
      ]
    },
    {
      "cell_type": "code",
      "execution_count": null,
      "metadata": {
        "id": "j9SNrK5MEE_d"
      },
      "outputs": [],
      "source": [
        "from sklearn.linear_model import BayesianRidge\n",
        "\n",
        "n_order = 3\n",
        "X_train = np.vander(x_train, n_order + 1, increasing=True)\n",
        "X_test = np.vander(x_test, n_order + 1, increasing=True)\n",
        "reg = BayesianRidge(tol=1e-6, fit_intercept=False, compute_score=True)"
      ]
    },
    {
      "cell_type": "markdown",
      "metadata": {
        "id": "Y-U-v42vEE_d"
      },
      "source": [
        "## Plot the true and predicted curves with log marginal likelihood (L)\n",
        "\n"
      ]
    },
    {
      "cell_type": "code",
      "execution_count": null,
      "metadata": {
        "id": "YBSnVyJZEE_d"
      },
      "outputs": [],
      "source": [
        "import matplotlib.pyplot as plt\n",
        "\n",
        "fig, axes = plt.subplots(1, 2, figsize=(8, 4))\n",
        "for i, ax in enumerate(axes):\n",
        "    # Bayesian ridge regression with different initial value pairs\n",
        "    if i == 0:\n",
        "        init = [1 / np.var(y_train), 1.0]  # Default values\n",
        "    elif i == 1:\n",
        "        init = [1.0, 1e-3]\n",
        "        reg.set_params(alpha_init=init[0], lambda_init=init[1])\n",
        "    reg.fit(X_train, y_train)\n",
        "    ymean, ystd = reg.predict(X_test, return_std=True)\n",
        "\n",
        "    ax.plot(x_test, func(x_test), color=\"blue\", label=\"sin($2\\\\pi x$)\")\n",
        "    ax.scatter(x_train, y_train, s=50, alpha=0.5, label=\"observation\")\n",
        "    ax.plot(x_test, ymean, color=\"red\", label=\"predict mean\")\n",
        "    ax.fill_between(\n",
        "        x_test, ymean - ystd, ymean + ystd, color=\"pink\", alpha=0.5, label=\"predict std\"\n",
        "    )\n",
        "    ax.set_ylim(-1.3, 1.3)\n",
        "    ax.legend()\n",
        "    title = \"$\\\\alpha$_init$={:.2f},\\\\ \\\\lambda$_init$={}$\".format(init[0], init[1])\n",
        "    if i == 0:\n",
        "        title += \" (Default)\"\n",
        "    ax.set_title(title, fontsize=12)\n",
        "    text = \"$\\\\alpha={:.1f}$\\n$\\\\lambda={:.3f}$\\n$L={:.1f}$\".format(\n",
        "        reg.alpha_, reg.lambda_, reg.scores_[-1]\n",
        "    )\n",
        "    ax.text(0.05, -1.0, text, fontsize=12)\n",
        "\n",
        "plt.tight_layout()\n",
        "plt.show()"
      ]
    }
  ],
  "metadata": {
    "kernelspec": {
      "display_name": "Python 3",
      "language": "python",
      "name": "python3"
    },
    "language_info": {
      "codemirror_mode": {
        "name": "ipython",
        "version": 3
      },
      "file_extension": ".py",
      "mimetype": "text/x-python",
      "name": "python",
      "nbconvert_exporter": "python",
      "pygments_lexer": "ipython3",
      "version": "3.9.13"
    },
    "colab": {
      "provenance": [],
      "include_colab_link": true
    }
  },
  "nbformat": 4,
  "nbformat_minor": 0
}